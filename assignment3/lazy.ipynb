{
 "cells": [
  {
   "cell_type": "code",
   "execution_count": 2,
   "metadata": {},
   "outputs": [],
   "source": [
    "import pickle\n",
    "import numpy as np\n",
    "from lazypredict.Supervised import LazyClassifier, LazyRegressor\n",
    "from sklearn.model_selection import train_test_split\n",
    "from sklearn import datasets"
   ]
  },
  {
   "cell_type": "code",
   "execution_count": 3,
   "metadata": {},
   "outputs": [
    {
     "name": "stderr",
     "output_type": "stream",
     "text": [
      " 71%|███████▏  | 30/42 [03:03<00:44,  3.73s/it]"
     ]
    }
   ],
   "source": [
    "# load data\n",
    "file_path = 'ass3.pickle'\n",
    "with open(file_path, 'rb') as f:\n",
    "    data = pickle.load(f)\n",
    "X_train = np.array(data['train'].iloc[:,:-1].values)\n",
    "y_train = np.array(data['train'].iloc[:,-1:].values)\n",
    "\n",
    "X_val = np.array(data['dev'].iloc[:,:-1].values)\n",
    "y_val = np.array(data['dev'].iloc[:,-1:].values)\n",
    "\n",
    "X_test = np.array(data['test'].iloc[:,:-1].values)\n",
    "y_test = np.array(data['test'].iloc[:,-1:].values)\n",
    "\n",
    "X = np.concatenate([X_train,X_val,X_test])\n",
    "y = np.concatenate([y_train,y_val,y_test])\n",
    "X_train, X_test, y_train, y_test = train_test_split(X, y, test_size=.2, random_state=42)# fit all models\n",
    "reg = LazyRegressor(predictions=True)\n",
    "models, predictions = reg.fit(X_train, X_test, y_train, y_test)"
   ]
  }
 ],
 "metadata": {
  "kernelspec": {
   "display_name": "Python 3",
   "language": "python",
   "name": "python3"
  },
  "language_info": {
   "codemirror_mode": {
    "name": "ipython",
    "version": 3
   },
   "file_extension": ".py",
   "mimetype": "text/x-python",
   "name": "python",
   "nbconvert_exporter": "python",
   "pygments_lexer": "ipython3",
   "version": "3.10.11"
  },
  "orig_nbformat": 4
 },
 "nbformat": 4,
 "nbformat_minor": 2
}
